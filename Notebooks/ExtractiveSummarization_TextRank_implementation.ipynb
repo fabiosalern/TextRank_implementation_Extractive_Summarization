{
  "cells": [
    {
      "cell_type": "markdown",
      "metadata": {
        "id": "bBVaUFYPRenr"
      },
      "source": [
        "\n",
        "# Libraries"
      ]
    },
    {
      "cell_type": "code",
      "execution_count": 1,
      "metadata": {
        "colab": {
          "base_uri": "https://localhost:8080/"
        },
        "id": "MC9dBxs80eOE",
        "outputId": "d736050d-8a0e-4a05-e6e5-102c836e3dd2"
      },
      "outputs": [
        {
          "name": "stderr",
          "output_type": "stream",
          "text": [
            "[nltk_data] Downloading package punkt to /root/nltk_data...\n",
            "[nltk_data]   Unzipping tokenizers/punkt.zip.\n"
          ]
        }
      ],
      "source": [
        "import pandas as pd\n",
        "import numpy as np\n",
        "\n",
        "import nltk\n",
        "from nltk.corpus import stopwords\n",
        "from nltk.tokenize import sent_tokenize\n",
        "nltk.download('punkt') # one time execution\n",
        "\n",
        "from sklearn.metrics.pairwise import cosine_similarity\n",
        "\n",
        "\n",
        "import networkx as nx"
      ]
    },
    {
      "cell_type": "markdown",
      "metadata": {
        "id": "QhU6R1YasQTp"
      },
      "source": [
        "# Extracting the word embeddings\n",
        "\n",
        "- glove 100d"
      ]
    },
    {
      "cell_type": "code",
      "execution_count": 2,
      "metadata": {
        "colab": {
          "base_uri": "https://localhost:8080/"
        },
        "id": "Jyo_xVr3spSP",
        "outputId": "3e94b772-08ed-44cd-ce62-584a3c203269"
      },
      "outputs": [
        {
          "name": "stdout",
          "output_type": "stream",
          "text": [
            "--2024-02-01 10:47:57--  http://nlp.stanford.edu/data/glove.6B.zip\n",
            "Resolving nlp.stanford.edu (nlp.stanford.edu)... 171.64.67.140\n",
            "Connecting to nlp.stanford.edu (nlp.stanford.edu)|171.64.67.140|:80... connected.\n",
            "HTTP request sent, awaiting response... 302 Found\n",
            "Location: https://nlp.stanford.edu/data/glove.6B.zip [following]\n",
            "--2024-02-01 10:47:58--  https://nlp.stanford.edu/data/glove.6B.zip\n",
            "Connecting to nlp.stanford.edu (nlp.stanford.edu)|171.64.67.140|:443... connected.\n",
            "HTTP request sent, awaiting response... 301 Moved Permanently\n",
            "Location: https://downloads.cs.stanford.edu/nlp/data/glove.6B.zip [following]\n",
            "--2024-02-01 10:47:58--  https://downloads.cs.stanford.edu/nlp/data/glove.6B.zip\n",
            "Resolving downloads.cs.stanford.edu (downloads.cs.stanford.edu)... 171.64.64.22\n",
            "Connecting to downloads.cs.stanford.edu (downloads.cs.stanford.edu)|171.64.64.22|:443... connected.\n",
            "HTTP request sent, awaiting response... 200 OK\n",
            "Length: 862182613 (822M) [application/zip]\n",
            "Saving to: ‘glove.6B.zip’\n",
            "\n",
            "glove.6B.zip        100%[===================>] 822.24M  5.15MB/s    in 3m 45s  \n",
            "\n",
            "2024-02-01 10:51:43 (3.66 MB/s) - ‘glove.6B.zip’ saved [862182613/862182613]\n",
            "\n",
            "Archive:  glove.6B.zip\n",
            "  inflating: glove.6B.50d.txt        \n",
            "  inflating: glove.6B.100d.txt       \n",
            "  inflating: glove.6B.200d.txt       \n",
            "  inflating: glove.6B.300d.txt       \n"
          ]
        }
      ],
      "source": [
        "! wget http://nlp.stanford.edu/data/glove.6B.zip\n",
        "\n",
        "! unzip glove*.zip"
      ]
    },
    {
      "cell_type": "code",
      "execution_count": 3,
      "metadata": {
        "id": "lH0Qc23XsVn8"
      },
      "outputs": [],
      "source": [
        "# Extract word vectors\n",
        "word_embeddings = {}\n",
        "f = open('glove.6B.100d.txt', encoding='utf-8')\n",
        "for line in f:\n",
        "    values = line.split()\n",
        "    word = values[0]\n",
        "    coefs = np.asarray(values[1:], dtype='float32')\n",
        "    word_embeddings[word] = coefs\n",
        "f.close()"
      ]
    },
    {
      "cell_type": "markdown",
      "metadata": {
        "id": "sBTU1TSsTuES"
      },
      "source": [
        "# Extractive summarization with **text rank**\n",
        "\n",
        "To perform the TextRank algorithm, a set of functions were designed to:\n",
        "\n",
        "1. process the articles in sentences\n",
        "2. removing the stop words and create an intermediate representation\n",
        "3. computing the similarity matrix between sentences\n",
        "4. perform the **pagerank algorithm** to rank each sentence\n",
        "5. Select the sentences that will make the final sumamry"
      ]
    },
    {
      "cell_type": "markdown",
      "metadata": {
        "id": "sLqWK1kUU2D1"
      },
      "source": [
        "0. Loading the stopwords and design a function to remove them"
      ]
    },
    {
      "cell_type": "code",
      "execution_count": 6,
      "metadata": {
        "colab": {
          "base_uri": "https://localhost:8080/"
        },
        "id": "EmpiMsutU04h",
        "outputId": "dbbcf043-0ca6-40be-acd1-1a38bd8808cb"
      },
      "outputs": [
        {
          "name": "stderr",
          "output_type": "stream",
          "text": [
            "[nltk_data] Downloading package stopwords to /root/nltk_data...\n",
            "[nltk_data]   Unzipping corpora/stopwords.zip.\n"
          ]
        }
      ],
      "source": [
        "#Stopwords\n",
        "nltk.download('stopwords')# one time execution\n",
        "\n",
        "from nltk.corpus import stopwords\n",
        "stop_words = stopwords.words('english')\n",
        "\n",
        "\n",
        "# function to remove stopwords\n",
        "def remove_stopwords(sentence):\n",
        "  sentence_new = \" \".join([i for i in sentence if i not in stop_words])\n",
        "  return sentence_new"
      ]
    },
    {
      "cell_type": "markdown",
      "metadata": {
        "id": "7P9h-jzkU4E_"
      },
      "source": [
        "1. Design the function `prepare_article(text)` which starting from a single article\n",
        "\n",
        "  - it performs the sentence tokenization;\n",
        "  - replace any character in the variable sentence that is not an uppercase letter (A-Z), a lowercase letter (a-z), or a digit (0-9) with a space (\" \");\n",
        "  - Lowercase each word;\n",
        "  - Removes the stopwords.\n",
        "\n",
        "  And outputs two lists of sentences:\n",
        "\n",
        "  1. The sentences unprocessed (just tokenized); this list will be used once computed the sentence ranking for composing the final summary of the article.\n",
        "\n",
        "  2. The processed sentences, which will be used in the netxt step for the intermediate representation."
      ]
    },
    {
      "cell_type": "code",
      "execution_count": 7,
      "metadata": {
        "id": "MmE2g_tv0CI9"
      },
      "outputs": [],
      "source": [
        "def prepare_article(text):\n",
        "  #Sentence tokenization\n",
        "  sentences=[]\n",
        "  sentences = sent_tokenize(text)\n",
        "\n",
        "  #1_Remove punctuation, numbers and special characters\n",
        "  clean_sentences_1 = pd.Series(sentences).str.replace(\"[^a-zA-Z]\", \" \", regex=True)\n",
        "\n",
        "  #2_casefolding\n",
        "  clean_sentences_2 = [sentence.lower() for sentence in clean_sentences_1]\n",
        "\n",
        "  #3_Stopwords removal\n",
        "  clean_sentences_3 = [ remove_stopwords(sentence.split()) for sentence in clean_sentences_2]\n",
        "\n",
        "  #Output, the unprocessed sentences list + the processed sentences list\n",
        "  return sentences, clean_sentences_3"
      ]
    },
    {
      "cell_type": "markdown",
      "metadata": {
        "id": "J95XV5nesGT5"
      },
      "source": [
        "2. Compute the intermidiate representation, which consists on computing the similarity matrix between sentences.\n",
        "\n",
        "- This is done by computing the cosine-similarity between vector sentences, obtained through the word embeddings (GLOVE) representation.\n",
        "\n",
        "- Each word in the sentence, it is associated with its GLOVE 100d word embedding.\n",
        "\n",
        "- For computing the final vector for the sentence, the mean between all the word embeddings of each word inside the sentence, is computed.\n",
        "\n",
        "Once obtained for each sentence its embedding, the cosine similarity between sentences is computed filling the final similarity matrix."
      ]
    },
    {
      "cell_type": "code",
      "execution_count": 8,
      "metadata": {
        "id": "Q-w7PqcyVvEN"
      },
      "outputs": [],
      "source": [
        "def similarity_matrix(cleaned_sentences):\n",
        "\n",
        "  #Vector representation:\n",
        "\n",
        "  sentence_vectors = []\n",
        "  for i in cleaned_sentences:\n",
        "    if len(i) != 0:\n",
        "      # Compute vector for each sentence as the mean of the word embeddings\n",
        "      v = sum([word_embeddings.get(w, np.zeros((100,))) for w in i.split()])/(len(i.split())+0.001)\n",
        "    else:\n",
        "      # For empty sentences, use a zero vector\n",
        "      v = np.zeros((100,))\n",
        "    sentence_vectors.append(v)\n",
        "\n",
        "  #Similarity matrix:\n",
        "\n",
        "  # Initialize the similarity matrix\n",
        "  M = np.zeros([len(cleaned_sentences), len(cleaned_sentences)])\n",
        "\n",
        "  # Computing the similarities\n",
        "  for i in range(len(cleaned_sentences)):\n",
        "    for j in range(len(cleaned_sentences)):\n",
        "      if i != j:\n",
        "        M[i][j] = cosine_similarity(sentence_vectors[i].reshape(1,100), sentence_vectors[j].reshape(1,100))[0,0]\n",
        "\n",
        "  return M\n"
      ]
    },
    {
      "cell_type": "markdown",
      "metadata": {
        "id": "OBWejP04u5Ls"
      },
      "source": [
        "This two functions can be included in the final function: `generate_summary(article, n_sentences)` which take as input the article and outputs the summary. The function can be summed up in the following steps:\n",
        "\n",
        "1. Sentence_tokenization + text_processing.\n",
        "2. 2 Vector representation + similarity across sentences.\n",
        "3. Graph representation +  rank the sentences through the pagerank algorithm.\n",
        "4. Generate the summary by selecting the top `n_sentences`.\n",
        "\n"
      ]
    },
    {
      "cell_type": "code",
      "execution_count": 24,
      "metadata": {
        "id": "m8PJWSWyu3H7"
      },
      "outputs": [],
      "source": [
        "def generate_summary(text, n_sentences=3):\n",
        "    stop_words = stopwords.words('english')\n",
        "    summary = \"\"\n",
        "\n",
        "    # 1 Sentence_tokenization + text_processing\n",
        "    sentences, processed_sentences = prepare_article(text)\n",
        "\n",
        "    # 2 Vector representation + similarity across sentences\n",
        "    M = similarity_matrix(processed_sentences)\n",
        "\n",
        "    # 3 Rank the sentences\n",
        "    nx_graph =  nx.DiGraph(M)\n",
        "    scores = nx.pagerank(nx_graph)\n",
        "\n",
        "\n",
        "    # 4 Generate the summary (topn approach)\n",
        "    #Sort the sentences\n",
        "    ranked_sentences = sorted(((scores[i],s) for i,s in enumerate(sentences)), reverse=True)\n",
        "    for i in range(n_sentences):\n",
        "      #Taking care of articles with a number of sentences lower than n_sentences\n",
        "        if i < len(ranked_sentences):\n",
        "            summary += ranked_sentences[i][1]\n",
        "\n",
        "    return summary"
      ]
    },
    {
      "cell_type": "markdown",
      "metadata": {
        "id": "4FujMcDqZQd9"
      },
      "source": [
        "# An example:"
      ]
    },
    {
      "cell_type": "markdown",
      "metadata": {},
      "source": [
        "## Data\n",
        "\n",
        "- The dataset used to try the code implemented is the CNN-Daily Mail news dataset from Kaggle\n",
        "- Link: https://www.kaggle.com/datasets/gowrishankarp/newspaper-text-summarization-cnn-dailymail"
      ]
    },
    {
      "cell_type": "code",
      "execution_count": null,
      "metadata": {},
      "outputs": [
        {
          "data": {
            "text/html": [
              "\n",
              "  <div id=\"df-20a22eb6-4ecb-4040-ad68-02a2d81b89a5\" class=\"colab-df-container\">\n",
              "    <div>\n",
              "<style scoped>\n",
              "    .dataframe tbody tr th:only-of-type {\n",
              "        vertical-align: middle;\n",
              "    }\n",
              "\n",
              "    .dataframe tbody tr th {\n",
              "        vertical-align: top;\n",
              "    }\n",
              "\n",
              "    .dataframe thead th {\n",
              "        text-align: right;\n",
              "    }\n",
              "</style>\n",
              "<table border=\"1\" class=\"dataframe\">\n",
              "  <thead>\n",
              "    <tr style=\"text-align: right;\">\n",
              "      <th></th>\n",
              "      <th>id</th>\n",
              "      <th>article</th>\n",
              "      <th>highlights</th>\n",
              "    </tr>\n",
              "  </thead>\n",
              "  <tbody>\n",
              "    <tr>\n",
              "      <th>0</th>\n",
              "      <td>c93a25175d42553bd05e8a61bae35abb23368d05</td>\n",
              "      <td>Bucharest, Romania (CNN) -- Romania's leftist ...</td>\n",
              "      <td>Leftist government files a motion with parliam...</td>\n",
              "    </tr>\n",
              "    <tr>\n",
              "      <th>1</th>\n",
              "      <td>8090057ca58ec0c7a752f0ac4fdd74954e5a6aa5</td>\n",
              "      <td>LONDON, England (CNN) -- London's newest hotel...</td>\n",
              "      <td>Entrepreneur braves recession to open rock'n'r...</td>\n",
              "    </tr>\n",
              "    <tr>\n",
              "      <th>2</th>\n",
              "      <td>7ba3aa10fa2d1623ac68cdd1bf2f3fde94a6e860</td>\n",
              "      <td>Los Angeles (CNN) -- Actress Lindsay Lohan sho...</td>\n",
              "      <td>Lohan could have waited until June 17 to start...</td>\n",
              "    </tr>\n",
              "    <tr>\n",
              "      <th>3</th>\n",
              "      <td>b1bf2c63663503ca0951a08dc84cd97a593d857d</td>\n",
              "      <td>By . Associated Press . PUBLISHED: . 11:30 EST...</td>\n",
              "      <td>Gunman killed 20 first-graders and six teachin...</td>\n",
              "    </tr>\n",
              "    <tr>\n",
              "      <th>4</th>\n",
              "      <td>c5cd24a690fb6e97f836a72cd36277bbdc172aca</td>\n",
              "      <td>(CNN) -- Finally, fans of the world's most fam...</td>\n",
              "      <td>'Harry Potter' books finally come to Kindle, N...</td>\n",
              "    </tr>\n",
              "  </tbody>\n",
              "</table>\n",
              "</div>\n",
              "    <div class=\"colab-df-buttons\">\n",
              "\n",
              "  <div class=\"colab-df-container\">\n",
              "    <button class=\"colab-df-convert\" onclick=\"convertToInteractive('df-20a22eb6-4ecb-4040-ad68-02a2d81b89a5')\"\n",
              "            title=\"Convert this dataframe to an interactive table.\"\n",
              "            style=\"display:none;\">\n",
              "\n",
              "  <svg xmlns=\"http://www.w3.org/2000/svg\" height=\"24px\" viewBox=\"0 -960 960 960\">\n",
              "    <path d=\"M120-120v-720h720v720H120Zm60-500h600v-160H180v160Zm220 220h160v-160H400v160Zm0 220h160v-160H400v160ZM180-400h160v-160H180v160Zm440 0h160v-160H620v160ZM180-180h160v-160H180v160Zm440 0h160v-160H620v160Z\"/>\n",
              "  </svg>\n",
              "    </button>\n",
              "\n",
              "  <style>\n",
              "    .colab-df-container {\n",
              "      display:flex;\n",
              "      gap: 12px;\n",
              "    }\n",
              "\n",
              "    .colab-df-convert {\n",
              "      background-color: #E8F0FE;\n",
              "      border: none;\n",
              "      border-radius: 50%;\n",
              "      cursor: pointer;\n",
              "      display: none;\n",
              "      fill: #1967D2;\n",
              "      height: 32px;\n",
              "      padding: 0 0 0 0;\n",
              "      width: 32px;\n",
              "    }\n",
              "\n",
              "    .colab-df-convert:hover {\n",
              "      background-color: #E2EBFA;\n",
              "      box-shadow: 0px 1px 2px rgba(60, 64, 67, 0.3), 0px 1px 3px 1px rgba(60, 64, 67, 0.15);\n",
              "      fill: #174EA6;\n",
              "    }\n",
              "\n",
              "    .colab-df-buttons div {\n",
              "      margin-bottom: 4px;\n",
              "    }\n",
              "\n",
              "    [theme=dark] .colab-df-convert {\n",
              "      background-color: #3B4455;\n",
              "      fill: #D2E3FC;\n",
              "    }\n",
              "\n",
              "    [theme=dark] .colab-df-convert:hover {\n",
              "      background-color: #434B5C;\n",
              "      box-shadow: 0px 1px 3px 1px rgba(0, 0, 0, 0.15);\n",
              "      filter: drop-shadow(0px 1px 2px rgba(0, 0, 0, 0.3));\n",
              "      fill: #FFFFFF;\n",
              "    }\n",
              "  </style>\n",
              "\n",
              "    <script>\n",
              "      const buttonEl =\n",
              "        document.querySelector('#df-20a22eb6-4ecb-4040-ad68-02a2d81b89a5 button.colab-df-convert');\n",
              "      buttonEl.style.display =\n",
              "        google.colab.kernel.accessAllowed ? 'block' : 'none';\n",
              "\n",
              "      async function convertToInteractive(key) {\n",
              "        const element = document.querySelector('#df-20a22eb6-4ecb-4040-ad68-02a2d81b89a5');\n",
              "        const dataTable =\n",
              "          await google.colab.kernel.invokeFunction('convertToInteractive',\n",
              "                                                    [key], {});\n",
              "        if (!dataTable) return;\n",
              "\n",
              "        const docLinkHtml = 'Like what you see? Visit the ' +\n",
              "          '<a target=\"_blank\" href=https://colab.research.google.com/notebooks/data_table.ipynb>data table notebook</a>'\n",
              "          + ' to learn more about interactive tables.';\n",
              "        element.innerHTML = '';\n",
              "        dataTable['output_type'] = 'display_data';\n",
              "        await google.colab.output.renderOutput(dataTable, element);\n",
              "        const docLink = document.createElement('div');\n",
              "        docLink.innerHTML = docLinkHtml;\n",
              "        element.appendChild(docLink);\n",
              "      }\n",
              "    </script>\n",
              "  </div>\n",
              "\n",
              "\n",
              "<div id=\"df-1747cf3c-e8c2-464e-8b62-fe9681aff8ad\">\n",
              "  <button class=\"colab-df-quickchart\" onclick=\"quickchart('df-1747cf3c-e8c2-464e-8b62-fe9681aff8ad')\"\n",
              "            title=\"Suggest charts\"\n",
              "            style=\"display:none;\">\n",
              "\n",
              "<svg xmlns=\"http://www.w3.org/2000/svg\" height=\"24px\"viewBox=\"0 0 24 24\"\n",
              "     width=\"24px\">\n",
              "    <g>\n",
              "        <path d=\"M19 3H5c-1.1 0-2 .9-2 2v14c0 1.1.9 2 2 2h14c1.1 0 2-.9 2-2V5c0-1.1-.9-2-2-2zM9 17H7v-7h2v7zm4 0h-2V7h2v10zm4 0h-2v-4h2v4z\"/>\n",
              "    </g>\n",
              "</svg>\n",
              "  </button>\n",
              "\n",
              "<style>\n",
              "  .colab-df-quickchart {\n",
              "      --bg-color: #E8F0FE;\n",
              "      --fill-color: #1967D2;\n",
              "      --hover-bg-color: #E2EBFA;\n",
              "      --hover-fill-color: #174EA6;\n",
              "      --disabled-fill-color: #AAA;\n",
              "      --disabled-bg-color: #DDD;\n",
              "  }\n",
              "\n",
              "  [theme=dark] .colab-df-quickchart {\n",
              "      --bg-color: #3B4455;\n",
              "      --fill-color: #D2E3FC;\n",
              "      --hover-bg-color: #434B5C;\n",
              "      --hover-fill-color: #FFFFFF;\n",
              "      --disabled-bg-color: #3B4455;\n",
              "      --disabled-fill-color: #666;\n",
              "  }\n",
              "\n",
              "  .colab-df-quickchart {\n",
              "    background-color: var(--bg-color);\n",
              "    border: none;\n",
              "    border-radius: 50%;\n",
              "    cursor: pointer;\n",
              "    display: none;\n",
              "    fill: var(--fill-color);\n",
              "    height: 32px;\n",
              "    padding: 0;\n",
              "    width: 32px;\n",
              "  }\n",
              "\n",
              "  .colab-df-quickchart:hover {\n",
              "    background-color: var(--hover-bg-color);\n",
              "    box-shadow: 0 1px 2px rgba(60, 64, 67, 0.3), 0 1px 3px 1px rgba(60, 64, 67, 0.15);\n",
              "    fill: var(--button-hover-fill-color);\n",
              "  }\n",
              "\n",
              "  .colab-df-quickchart-complete:disabled,\n",
              "  .colab-df-quickchart-complete:disabled:hover {\n",
              "    background-color: var(--disabled-bg-color);\n",
              "    fill: var(--disabled-fill-color);\n",
              "    box-shadow: none;\n",
              "  }\n",
              "\n",
              "  .colab-df-spinner {\n",
              "    border: 2px solid var(--fill-color);\n",
              "    border-color: transparent;\n",
              "    border-bottom-color: var(--fill-color);\n",
              "    animation:\n",
              "      spin 1s steps(1) infinite;\n",
              "  }\n",
              "\n",
              "  @keyframes spin {\n",
              "    0% {\n",
              "      border-color: transparent;\n",
              "      border-bottom-color: var(--fill-color);\n",
              "      border-left-color: var(--fill-color);\n",
              "    }\n",
              "    20% {\n",
              "      border-color: transparent;\n",
              "      border-left-color: var(--fill-color);\n",
              "      border-top-color: var(--fill-color);\n",
              "    }\n",
              "    30% {\n",
              "      border-color: transparent;\n",
              "      border-left-color: var(--fill-color);\n",
              "      border-top-color: var(--fill-color);\n",
              "      border-right-color: var(--fill-color);\n",
              "    }\n",
              "    40% {\n",
              "      border-color: transparent;\n",
              "      border-right-color: var(--fill-color);\n",
              "      border-top-color: var(--fill-color);\n",
              "    }\n",
              "    60% {\n",
              "      border-color: transparent;\n",
              "      border-right-color: var(--fill-color);\n",
              "    }\n",
              "    80% {\n",
              "      border-color: transparent;\n",
              "      border-right-color: var(--fill-color);\n",
              "      border-bottom-color: var(--fill-color);\n",
              "    }\n",
              "    90% {\n",
              "      border-color: transparent;\n",
              "      border-bottom-color: var(--fill-color);\n",
              "    }\n",
              "  }\n",
              "</style>\n",
              "\n",
              "  <script>\n",
              "    async function quickchart(key) {\n",
              "      const quickchartButtonEl =\n",
              "        document.querySelector('#' + key + ' button');\n",
              "      quickchartButtonEl.disabled = true;  // To prevent multiple clicks.\n",
              "      quickchartButtonEl.classList.add('colab-df-spinner');\n",
              "      try {\n",
              "        const charts = await google.colab.kernel.invokeFunction(\n",
              "            'suggestCharts', [key], {});\n",
              "      } catch (error) {\n",
              "        console.error('Error during call to suggestCharts:', error);\n",
              "      }\n",
              "      quickchartButtonEl.classList.remove('colab-df-spinner');\n",
              "      quickchartButtonEl.classList.add('colab-df-quickchart-complete');\n",
              "    }\n",
              "    (() => {\n",
              "      let quickchartButtonEl =\n",
              "        document.querySelector('#df-1747cf3c-e8c2-464e-8b62-fe9681aff8ad button');\n",
              "      quickchartButtonEl.style.display =\n",
              "        google.colab.kernel.accessAllowed ? 'block' : 'none';\n",
              "    })();\n",
              "  </script>\n",
              "</div>\n",
              "    </div>\n",
              "  </div>\n"
            ],
            "text/plain": [
              "                                         id  \\\n",
              "0  c93a25175d42553bd05e8a61bae35abb23368d05   \n",
              "1  8090057ca58ec0c7a752f0ac4fdd74954e5a6aa5   \n",
              "2  7ba3aa10fa2d1623ac68cdd1bf2f3fde94a6e860   \n",
              "3  b1bf2c63663503ca0951a08dc84cd97a593d857d   \n",
              "4  c5cd24a690fb6e97f836a72cd36277bbdc172aca   \n",
              "\n",
              "                                             article  \\\n",
              "0  Bucharest, Romania (CNN) -- Romania's leftist ...   \n",
              "1  LONDON, England (CNN) -- London's newest hotel...   \n",
              "2  Los Angeles (CNN) -- Actress Lindsay Lohan sho...   \n",
              "3  By . Associated Press . PUBLISHED: . 11:30 EST...   \n",
              "4  (CNN) -- Finally, fans of the world's most fam...   \n",
              "\n",
              "                                          highlights  \n",
              "0  Leftist government files a motion with parliam...  \n",
              "1  Entrepreneur braves recession to open rock'n'r...  \n",
              "2  Lohan could have waited until June 17 to start...  \n",
              "3  Gunman killed 20 first-graders and six teachin...  \n",
              "4  'Harry Potter' books finally come to Kindle, N...  "
            ]
          },
          "metadata": {},
          "output_type": "display_data"
        }
      ],
      "source": [
        "filepath = '...'\n",
        "df = pd.read_csv(filepath)\n",
        "df.head()"
      ]
    },
    {
      "cell_type": "markdown",
      "metadata": {},
      "source": [
        "## Summarization on one article:"
      ]
    },
    {
      "cell_type": "code",
      "execution_count": 25,
      "metadata": {
        "colab": {
          "base_uri": "https://localhost:8080/",
          "height": 70
        },
        "id": "5WyW3FslRKrA",
        "outputId": "99daf0b0-b56e-4175-c791-308a2a220e18"
      },
      "outputs": [
        {
          "data": {
            "application/vnd.google.colaboratory.intrinsic+json": {
              "type": "string"
            },
            "text/plain": [
              "'The coalition government has come under criticism recently for ordering that Romania\\'s Cultural Institute report not to the president, as it had been doing, but to the Senate.The country\\'s civil society and anti-corruption agencies addressed on Wednesday a letter to the president of the European Commission, Jose Manuel Barroso, expressing concern over this \"unprecedented attack\" on the rule of law.Ponta received Parliament\\'s vote to go to Brussels on behalf of the country, but the Constitutional Court ruled that president Basescu had the right to attend the event.'"
            ]
          },
          "execution_count": 25,
          "metadata": {},
          "output_type": "execute_result"
        }
      ],
      "source": [
        "text = df.iloc[0]\n",
        "generate_summary(text[\"article\"], n_sentences = 3)"
      ]
    },
    {
      "cell_type": "code",
      "execution_count": 13,
      "metadata": {
        "colab": {
          "base_uri": "https://localhost:8080/",
          "height": 35
        },
        "id": "KdN5kzjZRKrA",
        "outputId": "225745e9-470e-47b9-e8f0-c69250e1a53b"
      },
      "outputs": [
        {
          "data": {
            "application/vnd.google.colaboratory.intrinsic+json": {
              "type": "string"
            },
            "text/plain": [
              "'Leftist government files a motion with parliament to suspend the president .\\nThe motion marks the latest in a series of attacks between Basescu and Prime Minister Ponta .\\nThe vote, scheduled for Friday, is expected to pass .'"
            ]
          },
          "execution_count": 13,
          "metadata": {},
          "output_type": "execute_result"
        }
      ],
      "source": [
        "#ground truth\n",
        "text.highlights"
      ]
    }
  ],
  "metadata": {
    "colab": {
      "provenance": []
    },
    "kernelspec": {
      "display_name": "Python 3",
      "name": "python3"
    },
    "language_info": {
      "codemirror_mode": {
        "name": "ipython",
        "version": 3
      },
      "file_extension": ".py",
      "mimetype": "text/x-python",
      "name": "python",
      "nbconvert_exporter": "python",
      "pygments_lexer": "ipython3",
      "version": "3.8.16"
    }
  },
  "nbformat": 4,
  "nbformat_minor": 0
}
